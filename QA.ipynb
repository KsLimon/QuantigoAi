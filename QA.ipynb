{
  "nbformat": 4,
  "nbformat_minor": 0,
  "metadata": {
    "colab": {
      "provenance": []
    },
    "kernelspec": {
      "name": "python3",
      "display_name": "Python 3"
    },
    "language_info": {
      "name": "python"
    }
  },
  "cells": [
    {
      "cell_type": "code",
      "execution_count": 1,
      "metadata": {
        "colab": {
          "base_uri": "https://localhost:8080/"
        },
        "id": "t-ySQ_MOXADP",
        "outputId": "3c06e3a7-e4de-4380-d151-f2d7068eb531"
      },
      "outputs": [
        {
          "output_type": "stream",
          "name": "stdout",
          "text": [
            "Mounted at /content/drive\n"
          ]
        }
      ],
      "source": [
        "from google.colab import drive\n",
        "drive.mount('/content/drive')"
      ]
    },
    {
      "cell_type": "code",
      "source": [
        "import json\n",
        "import csv\n",
        "import pandas as pd"
      ],
      "metadata": {
        "id": "AZGWIN9fI8bC"
      },
      "execution_count": 2,
      "outputs": []
    },
    {
      "cell_type": "markdown",
      "source": [
        "# **formatted_pos_0.png.json**"
      ],
      "metadata": {
        "id": "xTapWUGvFGVr"
      }
    },
    {
      "cell_type": "code",
      "source": [
        "with open('/content/drive/MyDrive/job_work/Quantigo/sampleJson/pos_0.png.json') as json_file:\n",
        "    data = json.load(json_file)"
      ],
      "metadata": {
        "id": "RV_D9qv_JCZT"
      },
      "execution_count": 44,
      "outputs": []
    },
    {
      "cell_type": "code",
      "source": [
        "from zmq.constants import NULL\n",
        "fp0pj = {\n",
        "    \"dataset_name\": \"pos_0.png.json\",\n",
        "    \"image_link\": \"\",\n",
        "    \"annotation_type\": \"image\",\n",
        "    \"annotation_objects\": {\n",
        "            \"vehicle\": {\n",
        "                \"presence\": 0,\n",
        "                \"bbox\": []\n",
        "            },\n",
        "            \"license_plate\": {\n",
        "                \"presence\": 0,\n",
        "                \"bbox\": []\n",
        "            }\n",
        "        },\n",
        "    \"annotation_attributes\": {\n",
        "            \"vehicle\": {\n",
        "                \"Type\": None,\n",
        "                \"Pose\": None,\n",
        "                \"Model\": None,\n",
        "                \"Make\": None,\n",
        "                \"Color\": None\n",
        "            },\n",
        "            \"license_plate\": {\n",
        "                \"Difficulty Score\": None,\n",
        "                \"Value\": None,\n",
        "                \"Occlusion\": None\n",
        "            }\n",
        "        }\n",
        "}"
      ],
      "metadata": {
        "id": "WHZZmnnsJduz"
      },
      "execution_count": 45,
      "outputs": []
    },
    {
      "cell_type": "code",
      "source": [
        "for i in range(len(data['objects'])):\n",
        "  if(data['objects'][i][\"classTitle\"] == \"Vehicle\"):\n",
        "    fp0pj[\"annotation_objects\"][\"vehicle\"]['presence'] +=1\n",
        "\n",
        "    for j in data['objects'][i][\"points\"]['exterior']:\n",
        "      fp0pj[\"annotation_objects\"][\"vehicle\"]['bbox'].extend(j)\n",
        "\n",
        "    for i in data['objects'][i]['tags']:\n",
        "      fp0pj[\"annotation_attributes\"][\"vehicle\"][i[\"name\"]] = i['value']\n",
        "\n",
        "  else:\n",
        "    fp0pj[\"annotation_objects\"][\"license_plate\"]['presence'] +=1\n",
        "\n",
        "    for j in data['objects'][i][\"points\"]['exterior']:\n",
        "      fp0pj[\"annotation_objects\"][\"license_plate\"]['bbox'].extend(j)\n",
        "\n",
        "    for i in data['objects'][i]['tags']:\n",
        "      fp0pj[\"annotation_attributes\"][\"license_plate\"][i[\"name\"]] = i['value']\n",
        "    \n",
        "    fp0pj[\"annotation_attributes\"][\"license_plate\"][\"Occlusion\"] = 0\n",
        "\n",
        "    if fp0pj[\"annotation_attributes\"][\"license_plate\"][\"Difficulty Score\"] != None :\n",
        "      fp0pj[\"annotation_attributes\"][\"license_plate\"][\"Difficulty Score\"] = int(fp0pj[\"annotation_attributes\"][\"license_plate\"][\"Difficulty Score\"])"
      ],
      "metadata": {
        "id": "eEx4h_nLT05U"
      },
      "execution_count": 46,
      "outputs": []
    },
    {
      "cell_type": "code",
      "source": [
        "fp0pj"
      ],
      "metadata": {
        "colab": {
          "base_uri": "https://localhost:8080/"
        },
        "id": "juxLTNjHAZF2",
        "outputId": "befd950a-adf1-4796-8d88-803ac931d595"
      },
      "execution_count": 47,
      "outputs": [
        {
          "output_type": "execute_result",
          "data": {
            "text/plain": [
              "{'dataset_name': 'pos_0.png.json',\n",
              " 'image_link': '',\n",
              " 'annotation_type': 'image',\n",
              " 'annotation_objects': {'vehicle': {'presence': 1, 'bbox': [396, 3, 773, 314]},\n",
              "  'license_plate': {'presence': 1, 'bbox': [535, 158, 622, 213]}},\n",
              " 'annotation_attributes': {'vehicle': {'Type': 'SUV',\n",
              "   'Pose': 'Rear',\n",
              "   'Model': 'UN',\n",
              "   'Make': 'Lexus',\n",
              "   'Color': 'Silver'},\n",
              "  'license_plate': {'Difficulty Score': 0,\n",
              "   'Value': 'CA, 7LVS119',\n",
              "   'Occlusion': 0}}}"
            ]
          },
          "metadata": {},
          "execution_count": 47
        }
      ]
    },
    {
      "cell_type": "code",
      "source": [
        "x = []\n",
        "x.append(fp0pj)"
      ],
      "metadata": {
        "id": "JFEMV99FJMyU"
      },
      "execution_count": 48,
      "outputs": []
    },
    {
      "cell_type": "code",
      "source": [
        "with open('my_formatted_pos_0.png.json', 'w') as f:\n",
        "    json.dump(x, f, indent=4)"
      ],
      "metadata": {
        "id": "OmcPLFlrGVYR"
      },
      "execution_count": 49,
      "outputs": []
    },
    {
      "cell_type": "markdown",
      "source": [
        "# **formatted_pos_10492.png.json**"
      ],
      "metadata": {
        "id": "irqDEZbCFcmb"
      }
    },
    {
      "cell_type": "code",
      "source": [
        "with open('/content/drive/MyDrive/job_work/Quantigo/sampleJson/pos_10492.png.json') as json_file:\n",
        "    data = json.load(json_file)"
      ],
      "metadata": {
        "id": "fiXciG4oFwOL"
      },
      "execution_count": 50,
      "outputs": []
    },
    {
      "cell_type": "code",
      "source": [
        "from zmq.constants import NULL\n",
        "fp0pj = {\n",
        "    \"dataset_name\": \"pos_10492.png.json\",\n",
        "    \"image_link\": \"\",\n",
        "    \"annotation_type\": \"image\",\n",
        "    \"annotation_objects\": {\n",
        "            \"vehicle\": {\n",
        "                \"presence\": 0,\n",
        "                \"bbox\": []\n",
        "            },\n",
        "            \"license_plate\": {\n",
        "                \"presence\": 0,\n",
        "                \"bbox\": []\n",
        "            }\n",
        "        },\n",
        "    \"annotation_attributes\": {\n",
        "            \"vehicle\": {\n",
        "                \"Type\": None,\n",
        "                \"Pose\": None,\n",
        "                \"Model\": None,\n",
        "                \"Make\": None,\n",
        "                \"Color\": None\n",
        "            },\n",
        "            \"license_plate\": {\n",
        "                \"Difficulty Score\": None,\n",
        "                \"Value\": None,\n",
        "                \"Occlusion\": None\n",
        "            }\n",
        "        }\n",
        "}"
      ],
      "metadata": {
        "id": "0UqKRBaFGFfz"
      },
      "execution_count": 51,
      "outputs": []
    },
    {
      "cell_type": "code",
      "source": [
        "for i in range(len(data['objects'])):\n",
        "  if(data['objects'][i][\"classTitle\"] == \"Vehicle\"):\n",
        "    fp0pj[\"annotation_objects\"][\"vehicle\"]['presence'] +=1\n",
        "\n",
        "    for j in data['objects'][i][\"points\"]['exterior']:\n",
        "      fp0pj[\"annotation_objects\"][\"vehicle\"]['bbox'].extend(j)\n",
        "\n",
        "    for i in data['objects'][i]['tags']:\n",
        "      fp0pj[\"annotation_attributes\"][\"vehicle\"][i[\"name\"]] = i['value']\n",
        "\n",
        "  else:\n",
        "    fp0pj[\"annotation_objects\"][\"license_plate\"]['presence'] +=1\n",
        "\n",
        "    for j in data['objects'][i][\"points\"]['exterior']:\n",
        "      fp0pj[\"annotation_objects\"][\"license_plate\"]['bbox'].extend(j)\n",
        "\n",
        "    for i in data['objects'][i]['tags']:\n",
        "      fp0pj[\"annotation_attributes\"][\"license_plate\"][i[\"name\"]] = i['value']\n",
        "    \n",
        "    fp0pj[\"annotation_attributes\"][\"license_plate\"][\"Occlusion\"] = 0\n",
        "    if fp0pj[\"annotation_attributes\"][\"license_plate\"][\"Difficulty Score\"] != None :\n",
        "      fp0pj[\"annotation_attributes\"][\"license_plate\"][\"Difficulty Score\"] = int(fp0pj[\"annotation_attributes\"][\"license_plate\"][\"Difficulty Score\"])"
      ],
      "metadata": {
        "id": "0lVbSr--GFf3"
      },
      "execution_count": 52,
      "outputs": []
    },
    {
      "cell_type": "code",
      "source": [
        "fp0pj"
      ],
      "metadata": {
        "colab": {
          "base_uri": "https://localhost:8080/"
        },
        "outputId": "0fe25365-2606-4c60-caa9-03ca4e5751b3",
        "id": "NMpxm87kGFf3"
      },
      "execution_count": 53,
      "outputs": [
        {
          "output_type": "execute_result",
          "data": {
            "text/plain": [
              "{'dataset_name': 'pos_10492.png.json',\n",
              " 'image_link': '',\n",
              " 'annotation_type': 'image',\n",
              " 'annotation_objects': {'vehicle': {'presence': 0, 'bbox': []},\n",
              "  'license_plate': {'presence': 0, 'bbox': []}},\n",
              " 'annotation_attributes': {'vehicle': {'Type': None,\n",
              "   'Pose': None,\n",
              "   'Model': None,\n",
              "   'Make': None,\n",
              "   'Color': None},\n",
              "  'license_plate': {'Difficulty Score': None,\n",
              "   'Value': None,\n",
              "   'Occlusion': None}}}"
            ]
          },
          "metadata": {},
          "execution_count": 53
        }
      ]
    },
    {
      "cell_type": "code",
      "source": [
        "x = []\n",
        "x.append(fp0pj)\n",
        "\n",
        "with open('my_formatted_pos_10492.png.json', 'w') as f:\n",
        "    json.dump(x, f, indent=4)"
      ],
      "metadata": {
        "id": "dVKacSHZKsLx"
      },
      "execution_count": 54,
      "outputs": []
    },
    {
      "cell_type": "markdown",
      "source": [
        "# **formatted_pos_10010.png.json**"
      ],
      "metadata": {
        "id": "VJLCpNoLFxHD"
      }
    },
    {
      "cell_type": "code",
      "source": [
        "with open('/content/drive/MyDrive/job_work/Quantigo/sampleJson/pos_10010.png.json') as json_file:\n",
        "    data = json.load(json_file)"
      ],
      "metadata": {
        "id": "pKH3HtEZGMgK"
      },
      "execution_count": 55,
      "outputs": []
    },
    {
      "cell_type": "code",
      "source": [
        "from zmq.constants import NULL\n",
        "fp0pj = {\n",
        "    \"dataset_name\": \"pos_10010.png.json\",\n",
        "    \"image_link\": \"\",\n",
        "    \"annotation_type\": \"image\",\n",
        "    \"annotation_objects\": {\n",
        "            \"vehicle\": {\n",
        "                \"presence\": 0,\n",
        "                \"bbox\": []\n",
        "            },\n",
        "            \"license_plate\": {\n",
        "                \"presence\": 0,\n",
        "                \"bbox\": []\n",
        "            }\n",
        "        },\n",
        "    \"annotation_attributes\": {\n",
        "            \"vehicle\": {\n",
        "                \"Type\": None,\n",
        "                \"Pose\": None,\n",
        "                \"Model\": None,\n",
        "                \"Make\": None,\n",
        "                \"Color\": None\n",
        "            },\n",
        "            \"license_plate\": {\n",
        "                \"Difficulty Score\": None,\n",
        "                \"Value\": None,\n",
        "                \"Occlusion\": None\n",
        "            }\n",
        "        }\n",
        "}"
      ],
      "metadata": {
        "id": "-BZLF6v1GMgK"
      },
      "execution_count": 56,
      "outputs": []
    },
    {
      "cell_type": "code",
      "source": [
        "for i in range(len(data['objects'])):\n",
        "  if(data['objects'][i][\"classTitle\"] == \"Vehicle\"):\n",
        "    fp0pj[\"annotation_objects\"][\"vehicle\"]['presence'] +=1\n",
        "\n",
        "    for j in data['objects'][i][\"points\"]['exterior']:\n",
        "      fp0pj[\"annotation_objects\"][\"vehicle\"]['bbox'].extend(j)\n",
        "\n",
        "    for i in data['objects'][i]['tags']:\n",
        "      fp0pj[\"annotation_attributes\"][\"vehicle\"][i[\"name\"]] = i['value']\n",
        "\n",
        "  else:\n",
        "    fp0pj[\"annotation_objects\"][\"license_plate\"]['presence'] +=1\n",
        "\n",
        "    for j in data['objects'][i][\"points\"]['exterior']:\n",
        "      fp0pj[\"annotation_objects\"][\"license_plate\"]['bbox'].extend(j)\n",
        "\n",
        "    for i in data['objects'][i]['tags']:\n",
        "      fp0pj[\"annotation_attributes\"][\"license_plate\"][i[\"name\"]] = i['value']\n",
        "    \n",
        "    fp0pj[\"annotation_attributes\"][\"license_plate\"][\"Occlusion\"] = 0\n",
        "    if fp0pj[\"annotation_attributes\"][\"license_plate\"][\"Difficulty Score\"] != None :\n",
        "      fp0pj[\"annotation_attributes\"][\"license_plate\"][\"Difficulty Score\"] = int(fp0pj[\"annotation_attributes\"][\"license_plate\"][\"Difficulty Score\"])"
      ],
      "metadata": {
        "id": "4tNfWT2IGMgK"
      },
      "execution_count": 57,
      "outputs": []
    },
    {
      "cell_type": "code",
      "source": [
        "fp0pj"
      ],
      "metadata": {
        "colab": {
          "base_uri": "https://localhost:8080/"
        },
        "outputId": "d14c6584-1f57-49ad-d9bc-dcfd5d8f4c24",
        "id": "5fLiXIplGMgK"
      },
      "execution_count": 58,
      "outputs": [
        {
          "output_type": "execute_result",
          "data": {
            "text/plain": [
              "{'dataset_name': 'pos_10010.png.json',\n",
              " 'image_link': '',\n",
              " 'annotation_type': 'image',\n",
              " 'annotation_objects': {'vehicle': {'presence': 1, 'bbox': [770, 0, 882, 306]},\n",
              "  'license_plate': {'presence': 0, 'bbox': []}},\n",
              " 'annotation_attributes': {'vehicle': {'Type': 'SUV',\n",
              "   'Pose': 'Rear',\n",
              "   'Model': 'UN',\n",
              "   'Make': 'Mercedes-Benz',\n",
              "   'Color': 'Silver'},\n",
              "  'license_plate': {'Difficulty Score': None,\n",
              "   'Value': None,\n",
              "   'Occlusion': None}}}"
            ]
          },
          "metadata": {},
          "execution_count": 58
        }
      ]
    },
    {
      "cell_type": "code",
      "source": [
        "x = []\n",
        "x.append(fp0pj)\n",
        "\n",
        "with open('my_formatted_pos_10010.png.json', 'w') as f:\n",
        "    json.dump(x, f, indent=4)"
      ],
      "metadata": {
        "id": "n_h3vMIsK76x"
      },
      "execution_count": 59,
      "outputs": []
    },
    {
      "cell_type": "markdown",
      "source": [
        "# **Task 2**"
      ],
      "metadata": {
        "id": "DzpjqydLNGIO"
      }
    },
    {
      "cell_type": "code",
      "source": [
        "with open('/content/drive/MyDrive/job_work/Quantigo/sampleJson/pos_0.png.json') as json_file:\n",
        "    data1 = json.load(json_file)"
      ],
      "metadata": {
        "id": "RyBeZrGONKQO"
      },
      "execution_count": 85,
      "outputs": []
    },
    {
      "cell_type": "code",
      "source": [
        "with open('/content/drive/MyDrive/job_work/Quantigo/sampleJson/pos_10492.png.json') as json_file:\n",
        "    data2 = json.load(json_file)"
      ],
      "metadata": {
        "id": "aNADqhHLNRU-"
      },
      "execution_count": 86,
      "outputs": []
    },
    {
      "cell_type": "code",
      "source": [
        "with open('/content/drive/MyDrive/job_work/Quantigo/sampleJson/pos_10010.png.json') as json_file:\n",
        "    data3 = json.load(json_file)"
      ],
      "metadata": {
        "id": "8v_7707ENVpN"
      },
      "execution_count": 87,
      "outputs": []
    },
    {
      "cell_type": "code",
      "source": [
        "newjason = {\n",
        "    \"description\": \"\",\n",
        "    \"tags\": [],\n",
        "    \"size\": {\n",
        "        \"height\": 720,\n",
        "        \"width\": 1280\n",
        "    },\n",
        "    \"objects\": []\n",
        "}"
      ],
      "metadata": {
        "id": "dXUGr17MNZxN"
      },
      "execution_count": 88,
      "outputs": []
    },
    {
      "cell_type": "code",
      "source": [
        "newjason[\"objects\"].extend(data1[\"objects\"])\n",
        "newjason[\"objects\"].extend(data2[\"objects\"])\n",
        "newjason[\"objects\"].extend(data3[\"objects\"])"
      ],
      "metadata": {
        "id": "Qihphf5YOFBT"
      },
      "execution_count": 89,
      "outputs": []
    },
    {
      "cell_type": "code",
      "source": [
        "newjason"
      ],
      "metadata": {
        "colab": {
          "base_uri": "https://localhost:8080/"
        },
        "id": "18qxdiNJOgUn",
        "outputId": "af097195-6879-4f90-ce44-34e01e49c8ea"
      },
      "execution_count": 90,
      "outputs": [
        {
          "output_type": "execute_result",
          "data": {
            "text/plain": [
              "{'description': '',\n",
              " 'tags': [],\n",
              " 'size': {'height': 720, 'width': 1280},\n",
              " 'objects': [{'id': 28602834,\n",
              "   'classId': 17389,\n",
              "   'description': '',\n",
              "   'geometryType': 'rectangle',\n",
              "   'labelerLogin': 'muyeed',\n",
              "   'createdAt': '2021-11-24T04:04:09.702Z',\n",
              "   'updatedAt': '2021-11-24T04:04:09.702Z',\n",
              "   'tags': [{'id': 29485103,\n",
              "     'tagId': 32292,\n",
              "     'name': 'Type',\n",
              "     'value': 'SUV',\n",
              "     'labelerLogin': 'muyeed',\n",
              "     'createdAt': '2021-11-24T04:04:09.702Z',\n",
              "     'updatedAt': '2021-11-24T04:04:09.702Z'},\n",
              "    {'id': 29485102,\n",
              "     'tagId': 32295,\n",
              "     'name': 'Pose',\n",
              "     'value': 'Rear',\n",
              "     'labelerLogin': 'muyeed',\n",
              "     'createdAt': '2021-11-24T04:04:09.702Z',\n",
              "     'updatedAt': '2021-11-24T04:04:09.702Z'},\n",
              "    {'id': 29485101,\n",
              "     'tagId': 32297,\n",
              "     'name': 'Model',\n",
              "     'value': 'UN',\n",
              "     'labelerLogin': 'muyeed',\n",
              "     'createdAt': '2021-11-24T04:04:09.702Z',\n",
              "     'updatedAt': '2021-11-24T04:04:09.702Z'},\n",
              "    {'id': 29485100,\n",
              "     'tagId': 32296,\n",
              "     'name': 'Make',\n",
              "     'value': 'Lexus',\n",
              "     'labelerLogin': 'muyeed',\n",
              "     'createdAt': '2021-11-24T04:04:09.702Z',\n",
              "     'updatedAt': '2021-11-24T04:04:09.702Z'},\n",
              "    {'id': 29485099,\n",
              "     'tagId': 32291,\n",
              "     'name': 'Color',\n",
              "     'value': 'Silver',\n",
              "     'labelerLogin': 'muyeed',\n",
              "     'createdAt': '2021-11-24T04:04:09.702Z',\n",
              "     'updatedAt': '2021-11-24T04:04:09.702Z'}],\n",
              "   'classTitle': 'Vehicle',\n",
              "   'points': {'exterior': [[396, 3], [773, 314]], 'interior': []}},\n",
              "  {'id': 28602833,\n",
              "   'classId': 17388,\n",
              "   'description': '',\n",
              "   'geometryType': 'rectangle',\n",
              "   'labelerLogin': 'muyeed',\n",
              "   'createdAt': '2021-11-24T04:04:09.702Z',\n",
              "   'updatedAt': '2021-11-24T04:04:09.702Z',\n",
              "   'tags': [{'id': 29485098,\n",
              "     'tagId': 32293,\n",
              "     'name': 'Difficulty Score',\n",
              "     'value': '0',\n",
              "     'labelerLogin': 'muyeed',\n",
              "     'createdAt': '2021-11-24T04:04:09.702Z',\n",
              "     'updatedAt': '2021-11-24T04:04:09.702Z'},\n",
              "    {'id': 29485097,\n",
              "     'tagId': 32290,\n",
              "     'name': 'Value',\n",
              "     'value': 'CA, 7LVS119',\n",
              "     'labelerLogin': 'muyeed',\n",
              "     'createdAt': '2021-11-24T04:04:09.702Z',\n",
              "     'updatedAt': '2021-11-24T04:04:09.702Z'}],\n",
              "   'classTitle': 'License Plate',\n",
              "   'points': {'exterior': [[535, 158], [622, 213]], 'interior': []}},\n",
              "  {'id': 28636340,\n",
              "   'classId': 17389,\n",
              "   'description': '',\n",
              "   'geometryType': 'rectangle',\n",
              "   'labelerLogin': 'muyeed',\n",
              "   'createdAt': '2021-11-24T04:04:09.702Z',\n",
              "   'updatedAt': '2021-11-24T04:04:09.702Z',\n",
              "   'tags': [{'id': 29607253,\n",
              "     'tagId': 32296,\n",
              "     'name': 'Make',\n",
              "     'value': 'Mercedes-Benz',\n",
              "     'labelerLogin': 'muyeed',\n",
              "     'createdAt': '2021-11-24T04:04:09.702Z',\n",
              "     'updatedAt': '2021-11-24T04:04:09.702Z'},\n",
              "    {'id': 29607252,\n",
              "     'tagId': 32292,\n",
              "     'name': 'Type',\n",
              "     'value': 'SUV',\n",
              "     'labelerLogin': 'muyeed',\n",
              "     'createdAt': '2021-11-24T04:04:09.702Z',\n",
              "     'updatedAt': '2021-11-24T04:04:09.702Z'},\n",
              "    {'id': 29607251,\n",
              "     'tagId': 32295,\n",
              "     'name': 'Pose',\n",
              "     'value': 'Rear',\n",
              "     'labelerLogin': 'muyeed',\n",
              "     'createdAt': '2021-11-24T04:04:09.702Z',\n",
              "     'updatedAt': '2021-11-24T04:04:09.702Z'},\n",
              "    {'id': 29607250,\n",
              "     'tagId': 32297,\n",
              "     'name': 'Model',\n",
              "     'value': 'UN',\n",
              "     'labelerLogin': 'muyeed',\n",
              "     'createdAt': '2021-11-24T04:04:09.702Z',\n",
              "     'updatedAt': '2021-11-24T04:04:09.702Z'},\n",
              "    {'id': 29607249,\n",
              "     'tagId': 32291,\n",
              "     'name': 'Color',\n",
              "     'value': 'Silver',\n",
              "     'labelerLogin': 'muyeed',\n",
              "     'createdAt': '2021-11-24T04:04:09.702Z',\n",
              "     'updatedAt': '2021-11-24T04:04:09.702Z'}],\n",
              "   'classTitle': 'Vehicle',\n",
              "   'points': {'exterior': [[770, 0], [882, 306]], 'interior': []}}]}"
            ]
          },
          "metadata": {},
          "execution_count": 90
        }
      ]
    },
    {
      "cell_type": "code",
      "source": [
        "with open('combined.json', 'w') as f:\n",
        "    json.dump(newjason, f, indent=4)"
      ],
      "metadata": {
        "id": "YOS2QmghO_Nf"
      },
      "execution_count": 91,
      "outputs": []
    }
  ]
}