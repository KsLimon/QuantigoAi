{
  "nbformat": 4,
  "nbformat_minor": 0,
  "metadata": {
    "colab": {
      "provenance": []
    },
    "kernelspec": {
      "name": "python3",
      "display_name": "Python 3"
    },
    "language_info": {
      "name": "python"
    }
  },
  "cells": [
    {
      "cell_type": "code",
      "execution_count": 1,
      "metadata": {
        "colab": {
          "base_uri": "https://localhost:8080/"
        },
        "id": "t-ySQ_MOXADP",
        "outputId": "42d87d52-96a7-43b3-dc25-e58e21515c21"
      },
      "outputs": [
        {
          "output_type": "stream",
          "name": "stdout",
          "text": [
            "Mounted at /content/drive\n"
          ]
        }
      ],
      "source": [
        "from google.colab import drive\n",
        "drive.mount('/content/drive')"
      ]
    },
    {
      "cell_type": "code",
      "source": [
        "import json\n",
        "import csv\n",
        "import pandas as pd"
      ],
      "metadata": {
        "id": "AZGWIN9fI8bC"
      },
      "execution_count": 2,
      "outputs": []
    },
    {
      "cell_type": "markdown",
      "source": [
        "# **formatted_pos_0.png.json**"
      ],
      "metadata": {
        "id": "xTapWUGvFGVr"
      }
    },
    {
      "cell_type": "code",
      "source": [
        "with open('/content/drive/MyDrive/job_work/Quantigo/sampleJson/pos_0.png.json') as json_file:\n",
        "    data = json.load(json_file)"
      ],
      "metadata": {
        "id": "RV_D9qv_JCZT"
      },
      "execution_count": null,
      "outputs": []
    },
    {
      "cell_type": "code",
      "source": [
        "from zmq.constants import NULL\n",
        "fp0pj = {\n",
        "    \"dataset_name\": \"pos_0.png.json\",\n",
        "    \"image_link\": \"\",\n",
        "    \"annotation_type\": \"image\",\n",
        "    \"annotation_objects\": {\n",
        "            \"vehicle\": {\n",
        "                \"presence\": 0,\n",
        "                \"bbox\": []\n",
        "            },\n",
        "            \"license_plate\": {\n",
        "                \"presence\": 0,\n",
        "                \"bbox\": []\n",
        "            }\n",
        "        },\n",
        "    \"annotation_attributes\": {\n",
        "            \"vehicle\": {\n",
        "                \"Type\": None,\n",
        "                \"Pose\": None,\n",
        "                \"Model\": None,\n",
        "                \"Make\": None,\n",
        "                \"Color\": None\n",
        "            },\n",
        "            \"license_plate\": {\n",
        "                \"Difficulty Score\": None,\n",
        "                \"Value\": None,\n",
        "                \"Occlusion\": None\n",
        "            }\n",
        "        }\n",
        "}"
      ],
      "metadata": {
        "id": "WHZZmnnsJduz"
      },
      "execution_count": null,
      "outputs": []
    },
    {
      "cell_type": "code",
      "source": [
        "for i in range(len(data['objects'])):\n",
        "  if(data['objects'][i][\"classTitle\"] == \"Vehicle\"):\n",
        "    fp0pj[\"annotation_objects\"][\"vehicle\"]['presence'] +=1\n",
        "\n",
        "    for j in data['objects'][i][\"points\"]['exterior']:\n",
        "      fp0pj[\"annotation_objects\"][\"vehicle\"]['bbox'].extend(j)\n",
        "\n",
        "    for i in data['objects'][i]['tags']:\n",
        "      fp0pj[\"annotation_attributes\"][\"vehicle\"][i[\"name\"]] = i['value']\n",
        "\n",
        "  else:\n",
        "    fp0pj[\"annotation_objects\"][\"license_plate\"]['presence'] +=1\n",
        "\n",
        "    for j in data['objects'][i][\"points\"]['exterior']:\n",
        "      fp0pj[\"annotation_objects\"][\"license_plate\"]['bbox'].extend(j)\n",
        "\n",
        "    for i in data['objects'][i]['tags']:\n",
        "      fp0pj[\"annotation_attributes\"][\"license_plate\"][i[\"name\"]] = i['value']\n",
        "    \n",
        "    fp0pj[\"annotation_attributes\"][\"license_plate\"][\"Occlusion\"] = 0\n",
        "\n",
        "    if fp0pj[\"annotation_attributes\"][\"license_plate\"][\"Difficulty Score\"] != None :\n",
        "      fp0pj[\"annotation_attributes\"][\"license_plate\"][\"Difficulty Score\"] = int(fp0pj[\"annotation_attributes\"][\"license_plate\"][\"Difficulty Score\"])"
      ],
      "metadata": {
        "id": "eEx4h_nLT05U"
      },
      "execution_count": null,
      "outputs": []
    },
    {
      "cell_type": "code",
      "source": [
        "fp0pj"
      ],
      "metadata": {
        "colab": {
          "base_uri": "https://localhost:8080/"
        },
        "id": "juxLTNjHAZF2",
        "outputId": "befd950a-adf1-4796-8d88-803ac931d595"
      },
      "execution_count": null,
      "outputs": [
        {
          "output_type": "execute_result",
          "data": {
            "text/plain": [
              "{'dataset_name': 'pos_0.png.json',\n",
              " 'image_link': '',\n",
              " 'annotation_type': 'image',\n",
              " 'annotation_objects': {'vehicle': {'presence': 1, 'bbox': [396, 3, 773, 314]},\n",
              "  'license_plate': {'presence': 1, 'bbox': [535, 158, 622, 213]}},\n",
              " 'annotation_attributes': {'vehicle': {'Type': 'SUV',\n",
              "   'Pose': 'Rear',\n",
              "   'Model': 'UN',\n",
              "   'Make': 'Lexus',\n",
              "   'Color': 'Silver'},\n",
              "  'license_plate': {'Difficulty Score': 0,\n",
              "   'Value': 'CA, 7LVS119',\n",
              "   'Occlusion': 0}}}"
            ]
          },
          "metadata": {},
          "execution_count": 47
        }
      ]
    },
    {
      "cell_type": "code",
      "source": [
        "x = []\n",
        "x.append(fp0pj)"
      ],
      "metadata": {
        "id": "JFEMV99FJMyU"
      },
      "execution_count": null,
      "outputs": []
    },
    {
      "cell_type": "code",
      "source": [
        "with open('my_formatted_pos_0.png.json', 'w') as f:\n",
        "    json.dump(x, f, indent=4)"
      ],
      "metadata": {
        "id": "OmcPLFlrGVYR"
      },
      "execution_count": null,
      "outputs": []
    },
    {
      "cell_type": "markdown",
      "source": [
        "# **formatted_pos_10492.png.json**"
      ],
      "metadata": {
        "id": "irqDEZbCFcmb"
      }
    },
    {
      "cell_type": "code",
      "source": [
        "with open('/content/drive/MyDrive/job_work/Quantigo/sampleJson/pos_10492.png.json') as json_file:\n",
        "    data = json.load(json_file)"
      ],
      "metadata": {
        "id": "fiXciG4oFwOL"
      },
      "execution_count": null,
      "outputs": []
    },
    {
      "cell_type": "code",
      "source": [
        "from zmq.constants import NULL\n",
        "fp0pj = {\n",
        "    \"dataset_name\": \"pos_10492.png.json\",\n",
        "    \"image_link\": \"\",\n",
        "    \"annotation_type\": \"image\",\n",
        "    \"annotation_objects\": {\n",
        "            \"vehicle\": {\n",
        "                \"presence\": 0,\n",
        "                \"bbox\": []\n",
        "            },\n",
        "            \"license_plate\": {\n",
        "                \"presence\": 0,\n",
        "                \"bbox\": []\n",
        "            }\n",
        "        },\n",
        "    \"annotation_attributes\": {\n",
        "            \"vehicle\": {\n",
        "                \"Type\": None,\n",
        "                \"Pose\": None,\n",
        "                \"Model\": None,\n",
        "                \"Make\": None,\n",
        "                \"Color\": None\n",
        "            },\n",
        "            \"license_plate\": {\n",
        "                \"Difficulty Score\": None,\n",
        "                \"Value\": None,\n",
        "                \"Occlusion\": None\n",
        "            }\n",
        "        }\n",
        "}"
      ],
      "metadata": {
        "id": "0UqKRBaFGFfz"
      },
      "execution_count": null,
      "outputs": []
    },
    {
      "cell_type": "code",
      "source": [
        "for i in range(len(data['objects'])):\n",
        "  if(data['objects'][i][\"classTitle\"] == \"Vehicle\"):\n",
        "    fp0pj[\"annotation_objects\"][\"vehicle\"]['presence'] +=1\n",
        "\n",
        "    for j in data['objects'][i][\"points\"]['exterior']:\n",
        "      fp0pj[\"annotation_objects\"][\"vehicle\"]['bbox'].extend(j)\n",
        "\n",
        "    for i in data['objects'][i]['tags']:\n",
        "      fp0pj[\"annotation_attributes\"][\"vehicle\"][i[\"name\"]] = i['value']\n",
        "\n",
        "  else:\n",
        "    fp0pj[\"annotation_objects\"][\"license_plate\"]['presence'] +=1\n",
        "\n",
        "    for j in data['objects'][i][\"points\"]['exterior']:\n",
        "      fp0pj[\"annotation_objects\"][\"license_plate\"]['bbox'].extend(j)\n",
        "\n",
        "    for i in data['objects'][i]['tags']:\n",
        "      fp0pj[\"annotation_attributes\"][\"license_plate\"][i[\"name\"]] = i['value']\n",
        "    \n",
        "    fp0pj[\"annotation_attributes\"][\"license_plate\"][\"Occlusion\"] = 0\n",
        "    if fp0pj[\"annotation_attributes\"][\"license_plate\"][\"Difficulty Score\"] != None :\n",
        "      fp0pj[\"annotation_attributes\"][\"license_plate\"][\"Difficulty Score\"] = int(fp0pj[\"annotation_attributes\"][\"license_plate\"][\"Difficulty Score\"])"
      ],
      "metadata": {
        "id": "0lVbSr--GFf3"
      },
      "execution_count": null,
      "outputs": []
    },
    {
      "cell_type": "code",
      "source": [
        "fp0pj"
      ],
      "metadata": {
        "colab": {
          "base_uri": "https://localhost:8080/"
        },
        "outputId": "0fe25365-2606-4c60-caa9-03ca4e5751b3",
        "id": "NMpxm87kGFf3"
      },
      "execution_count": null,
      "outputs": [
        {
          "output_type": "execute_result",
          "data": {
            "text/plain": [
              "{'dataset_name': 'pos_10492.png.json',\n",
              " 'image_link': '',\n",
              " 'annotation_type': 'image',\n",
              " 'annotation_objects': {'vehicle': {'presence': 0, 'bbox': []},\n",
              "  'license_plate': {'presence': 0, 'bbox': []}},\n",
              " 'annotation_attributes': {'vehicle': {'Type': None,\n",
              "   'Pose': None,\n",
              "   'Model': None,\n",
              "   'Make': None,\n",
              "   'Color': None},\n",
              "  'license_plate': {'Difficulty Score': None,\n",
              "   'Value': None,\n",
              "   'Occlusion': None}}}"
            ]
          },
          "metadata": {},
          "execution_count": 53
        }
      ]
    },
    {
      "cell_type": "code",
      "source": [
        "x = []\n",
        "x.append(fp0pj)\n",
        "\n",
        "with open('my_formatted_pos_10492.png.json', 'w') as f:\n",
        "    json.dump(x, f, indent=4)"
      ],
      "metadata": {
        "id": "dVKacSHZKsLx"
      },
      "execution_count": null,
      "outputs": []
    },
    {
      "cell_type": "markdown",
      "source": [
        "# **formatted_pos_10010.png.json**"
      ],
      "metadata": {
        "id": "VJLCpNoLFxHD"
      }
    },
    {
      "cell_type": "code",
      "source": [
        "with open('/content/drive/MyDrive/job_work/Quantigo/sampleJson/pos_10010.png.json') as json_file:\n",
        "    data = json.load(json_file)"
      ],
      "metadata": {
        "id": "pKH3HtEZGMgK"
      },
      "execution_count": null,
      "outputs": []
    },
    {
      "cell_type": "code",
      "source": [
        "from zmq.constants import NULL\n",
        "fp0pj = {\n",
        "    \"dataset_name\": \"pos_10010.png.json\",\n",
        "    \"image_link\": \"\",\n",
        "    \"annotation_type\": \"image\",\n",
        "    \"annotation_objects\": {\n",
        "            \"vehicle\": {\n",
        "                \"presence\": 0,\n",
        "                \"bbox\": []\n",
        "            },\n",
        "            \"license_plate\": {\n",
        "                \"presence\": 0,\n",
        "                \"bbox\": []\n",
        "            }\n",
        "        },\n",
        "    \"annotation_attributes\": {\n",
        "            \"vehicle\": {\n",
        "                \"Type\": None,\n",
        "                \"Pose\": None,\n",
        "                \"Model\": None,\n",
        "                \"Make\": None,\n",
        "                \"Color\": None\n",
        "            },\n",
        "            \"license_plate\": {\n",
        "                \"Difficulty Score\": None,\n",
        "                \"Value\": None,\n",
        "                \"Occlusion\": None\n",
        "            }\n",
        "        }\n",
        "}"
      ],
      "metadata": {
        "id": "-BZLF6v1GMgK"
      },
      "execution_count": null,
      "outputs": []
    },
    {
      "cell_type": "code",
      "source": [
        "for i in range(len(data['objects'])):\n",
        "  if(data['objects'][i][\"classTitle\"] == \"Vehicle\"):\n",
        "    fp0pj[\"annotation_objects\"][\"vehicle\"]['presence'] +=1\n",
        "\n",
        "    for j in data['objects'][i][\"points\"]['exterior']:\n",
        "      fp0pj[\"annotation_objects\"][\"vehicle\"]['bbox'].extend(j)\n",
        "\n",
        "    for i in data['objects'][i]['tags']:\n",
        "      fp0pj[\"annotation_attributes\"][\"vehicle\"][i[\"name\"]] = i['value']\n",
        "\n",
        "  else:\n",
        "    fp0pj[\"annotation_objects\"][\"license_plate\"]['presence'] +=1\n",
        "\n",
        "    for j in data['objects'][i][\"points\"]['exterior']:\n",
        "      fp0pj[\"annotation_objects\"][\"license_plate\"]['bbox'].extend(j)\n",
        "\n",
        "    for i in data['objects'][i]['tags']:\n",
        "      fp0pj[\"annotation_attributes\"][\"license_plate\"][i[\"name\"]] = i['value']\n",
        "    \n",
        "    fp0pj[\"annotation_attributes\"][\"license_plate\"][\"Occlusion\"] = 0\n",
        "    if fp0pj[\"annotation_attributes\"][\"license_plate\"][\"Difficulty Score\"] != None :\n",
        "      fp0pj[\"annotation_attributes\"][\"license_plate\"][\"Difficulty Score\"] = int(fp0pj[\"annotation_attributes\"][\"license_plate\"][\"Difficulty Score\"])"
      ],
      "metadata": {
        "id": "4tNfWT2IGMgK"
      },
      "execution_count": null,
      "outputs": []
    },
    {
      "cell_type": "code",
      "source": [
        "fp0pj"
      ],
      "metadata": {
        "colab": {
          "base_uri": "https://localhost:8080/"
        },
        "outputId": "d14c6584-1f57-49ad-d9bc-dcfd5d8f4c24",
        "id": "5fLiXIplGMgK"
      },
      "execution_count": null,
      "outputs": [
        {
          "output_type": "execute_result",
          "data": {
            "text/plain": [
              "{'dataset_name': 'pos_10010.png.json',\n",
              " 'image_link': '',\n",
              " 'annotation_type': 'image',\n",
              " 'annotation_objects': {'vehicle': {'presence': 1, 'bbox': [770, 0, 882, 306]},\n",
              "  'license_plate': {'presence': 0, 'bbox': []}},\n",
              " 'annotation_attributes': {'vehicle': {'Type': 'SUV',\n",
              "   'Pose': 'Rear',\n",
              "   'Model': 'UN',\n",
              "   'Make': 'Mercedes-Benz',\n",
              "   'Color': 'Silver'},\n",
              "  'license_plate': {'Difficulty Score': None,\n",
              "   'Value': None,\n",
              "   'Occlusion': None}}}"
            ]
          },
          "metadata": {},
          "execution_count": 58
        }
      ]
    },
    {
      "cell_type": "code",
      "source": [
        "x = []\n",
        "x.append(fp0pj)\n",
        "\n",
        "with open('my_formatted_pos_10010.png.json', 'w') as f:\n",
        "    json.dump(x, f, indent=4)"
      ],
      "metadata": {
        "id": "n_h3vMIsK76x"
      },
      "execution_count": null,
      "outputs": []
    },
    {
      "cell_type": "markdown",
      "source": [
        "# **Task 2**"
      ],
      "metadata": {
        "id": "DzpjqydLNGIO"
      }
    },
    {
      "cell_type": "code",
      "source": [
        "with open('/content/drive/MyDrive/job_work/Quantigo/sampleJson/pos_0.png.json') as json_file:\n",
        "    data1 = json.load(json_file)"
      ],
      "metadata": {
        "id": "RyBeZrGONKQO"
      },
      "execution_count": 3,
      "outputs": []
    },
    {
      "cell_type": "code",
      "source": [
        "with open('/content/drive/MyDrive/job_work/Quantigo/sampleJson/pos_10492.png.json') as json_file:\n",
        "    data2 = json.load(json_file)"
      ],
      "metadata": {
        "id": "aNADqhHLNRU-"
      },
      "execution_count": 4,
      "outputs": []
    },
    {
      "cell_type": "code",
      "source": [
        "with open('/content/drive/MyDrive/job_work/Quantigo/sampleJson/pos_10010.png.json') as json_file:\n",
        "    data3 = json.load(json_file)"
      ],
      "metadata": {
        "id": "8v_7707ENVpN"
      },
      "execution_count": 5,
      "outputs": []
    },
    {
      "cell_type": "code",
      "source": [
        "newjason = {\n",
        "    \"description\": \"\",\n",
        "    \"tags\": [],\n",
        "    \"size\": {\n",
        "        \"height\": 720,\n",
        "        \"width\": 1280\n",
        "    },\n",
        "    \"objects\": []\n",
        "}"
      ],
      "metadata": {
        "id": "dXUGr17MNZxN"
      },
      "execution_count": 6,
      "outputs": []
    },
    {
      "cell_type": "code",
      "source": [
        "newjason[\"objects\"].extend(data1[\"objects\"])\n",
        "newjason[\"objects\"].extend(data2[\"objects\"])\n",
        "newjason[\"objects\"].extend(data3[\"objects\"])"
      ],
      "metadata": {
        "id": "Qihphf5YOFBT"
      },
      "execution_count": 7,
      "outputs": []
    },
    {
      "cell_type": "code",
      "source": [
        "newjason"
      ],
      "metadata": {
        "id": "3qfrImBpisbz"
      },
      "execution_count": null,
      "outputs": []
    },
    {
      "cell_type": "code",
      "source": [
        "for i in range(len(newjason[\"objects\"])):\n",
        "  if newjason[\"objects\"][i][\"classTitle\"] == \"Vehicle\":\n",
        "    newjason[\"objects\"][i][\"classTitle\"] = \"Car\"\n",
        "\n",
        "  else:\n",
        "    newjason[\"objects\"][i][\"classTitle\"] = \"Number\""
      ],
      "metadata": {
        "id": "18qxdiNJOgUn"
      },
      "execution_count": 9,
      "outputs": []
    },
    {
      "cell_type": "code",
      "source": [
        "with open('combined.json', 'w') as f:\n",
        "    json.dump(newjason, f, indent=4)"
      ],
      "metadata": {
        "id": "YOS2QmghO_Nf"
      },
      "execution_count": 10,
      "outputs": []
    }
  ]
}